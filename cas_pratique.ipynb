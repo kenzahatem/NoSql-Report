{
 "cells": [
  {
   "cell_type": "markdown",
   "id": "5ccc5fd5-548c-46df-aaf2-aaecf2cbc209",
   "metadata": {},
   "source": [
    "<center><h1> Rapport Base de données</h1></center>\n",
    "<center><h2>Kenza HATEM</h2></center>\n",
    "<center><i><b>NE :</b>12206971</i></center>\n",
    "<br>\n",
    "<center><img src=\"https://media.licdn.com/dms/image/v2/D5612AQHvX3Ftp9DLlQ/article-cover_image-shrink_720_1280/article-cover_image-shrink_720_1280/0/1722349221203?e=2147483647&v=beta&t=W1PXm4d6ueeRKqpgg_T0MQAUftcl1D-xEDLWMycyRR4\"></center>\n"
   ]
  },
  {
   "cell_type": "markdown",
   "id": "f2547a60-dc9b-4c4c-a340-491c782be922",
   "metadata": {},
   "source": [
    "# Cas pratique : Quizz Constructif\n",
    "![](https://phpscriptsmall.com/wp-content/uploads/2019/06/online-quiz-1.jpg)\n",
    "\n",
    "## Description du Projet\n",
    "Le projet \"Quizz Constructif\" est une application de quizz en temps réel, où les utilisateurs participent de manière simultanée et peuvent s’aider mutuellement via un chat contrôlé. Le système doit permettre une réponse rapide aux actions des utilisateurs pour assurer une expérience interactive et fluide.\n",
    "\n",
    "## Spécifications Fonctionnelles\n",
    "- **Lancement Simultané du Quizz** : Toutes les questions seront lancées en même temps pour les utilisateurs connectés.\n",
    "- **Gestion des Pseudos** : Chaque utilisateur peut choisir un pseudo à la connexion, sinon un pseudo par défaut (ex. `user1`, `user2`, etc.) est attribué.\n",
    "- **Limite d'Utilisateurs** : Maximum de 30 utilisateurs connectés simultanément.\n",
    "- **Questions à Choix Multiples** : Les questions sont de type QCM (A, B, C, ...).\n",
    "- **Canal de Chat Filtré** : Un canal de chat permet aux utilisateurs d'échanger des indices, mais bloque les réponses directes aux questions.\n",
    "\n",
    "## Détails Supplémentaires\n",
    "\n",
    "- **Sessions Temporaires** : Les utilisateurs et leurs données sont temporaires et sont détruits après chaque session de quizz, ce qui limite la persistance en mémoire. Redis se prête bien à ce besoin car il gère facilement des données temporaires en mémoire.\n",
    "- **Renouvellement du Quizz** : Les questions du quizz sont régénérées et mises à jour à chaque nouvelle session. Cela signifie que chaque connexion peut potentiellement présenter un nouveau jeu de questions, garantissant une expérience renouvelée pour chaque session.\n",
    "\n",
    "## Choix Technologique : Redis\n",
    "### Pourquoi on devrait éviter d'utiliser une BDD SQL : \n",
    " - Les bases de données SQL sont conçues pour des données persistantes, alors que dans ce cas pratique les données sont temporaires.\n",
    " - L'écriture et la lecture rapide est crucial pour notre projet ce qui n'est pas la priorité d'une base de données SQL.\n",
    "\n",
    "### Avantages de Redis pour ce Projet\n",
    "\n",
    "1. **Temps Réel et Communication Instantanée**\n",
    "   - Redis propose une **fonction de publication/souscription (Pub/Sub)** native. Cela permet d'envoyer instantanément les messages de chat entre les utilisateurs connectés, sans délai. Cette communication instantanée est essentielle pour un jeu en temps réel.\n",
    "   \n",
    "2. **Gestion de Données Temporaires et Légères**\n",
    "   - Redis utilise la **mémoire RAM** pour stocker les données, ce qui permet des lectures et écritures rapides. La suppression des utilisateurs à la fin de chaque session limite la quantité de mémoire utilisée.\n",
    "   - Pour une limite de 30 utilisateurs, Redis est plus que suffisant. De plus, la suppression des utilisateurs après chaque session optimise l'utilisation de la RAM et assure des performances constantes.\n",
    "\n",
    "3. **Stockage et Régénération des Questions de Quizz**\n",
    "   - Les questions du quizz peuvent être stockées temporairement dans Redis avec une **date d'expiration** ou un rafraîchissement des données pour chaque nouvelle session.(à confirmer avec le client )\n",
    "   - Redis supporte également des structures de données comme les **hashes et les sets**, qui facilitent le stockage structuré des questions, des réponses, et des scores des utilisateurs.\n",
    "\n",
    "4. **Scalabilité et Limitation des Ressources**\n",
    "   - Redis est conçu pour supporter un grand nombre de connexions simultanées, ce qui est idéal même pour une extension de notre application à plus de 30 utilisateurs.\n",
    "\n",
    "### Inconvénients de MongoDB pour ce cas\n",
    "\n",
    "1. **Absence de Communication en Temps Réel**\n",
    "   - MongoDB n'a pas de mécanisme Pub/Sub natif, ce qui rendrait difficile la gestion d’un chat en temps réel avec filtres.\n",
    "\n",
    "2. **Adaptation Moins Flexible aux Données Temporaires**\n",
    "   - MongoDB est orienté vers des données plus permanentes. Pour des données temporaires, MongoDB serait plus coûteux et moins performant que Redis, surtout dans le cas d’utilisateurs supprimés après chaque session et de questions renouvelées.\n",
    "\n",
    "\n",
    "## Extension Potentielle : Stockage des Données Utilisateur \n",
    "(Cela dépendera de la demande du client)\n",
    "\n",
    "Si un stockage persistant des données utilisateur était nécessaire, on pourrait combiner MongoDB et Redis (comme illusté ci-dessous un exemple d'une application):\n",
    "\n",
    "- **MongoDB** : Pour stocker durablement les informations utilisateur et les résultats de quizz, MongoDB offrirait une gestion efficace des données structurées et un stockage longue durée.\n",
    "  \n",
    "- **Redis en Cache** : Redis servirait à gérer les sessions en temps réel pour garantir rapidité et fluidité des interactions pendant le quizz, en déchargeant MongoDB des données temporaires.\n",
    "\n",
    "Ainsi, Redis assurerait la réactivité en temps réel, tandis que MongoDB préserverait les données importantes à long terme.\n",
    "\n",
    "![](https://romankudryashov.com/blog/2021/06/mongodb-redis-rust/images/architecture.png)\n",
    "\n",
    "\n",
    "## Conclusion\n",
    "Redis est le choix idéal pour le projet \"Quizz Constructif\" en raison de sa gestion rapide des données temporaires, de ses capacités de communication en temps réel, et de son efficacité pour stocker les informations liées au quizz et aux utilisateurs.\n",
    "\n",
    "---"
   ]
  },
  {
   "cell_type": "markdown",
   "id": "f4d8ee47-a936-4420-8049-2a53884ffd9c",
   "metadata": {},
   "source": [
    "<b>Nous allons aborder plusieurs aspects essentiels dans le développement de ce projet :</b>"
   ]
  },
  {
   "cell_type": "markdown",
   "id": "9dd8e6b2-91c6-4a9b-a87f-f5f4aea47a60",
   "metadata": {},
   "source": [
    "## Traitement des questions posées durant le quizz"
   ]
  },
  {
   "cell_type": "markdown",
   "id": "924f9fe0-f3fe-4945-bd52-6a51487b803c",
   "metadata": {},
   "source": [
    "Les questions pour les quizz seront fournis en deux formats possibles, en `csv` ou en `txt`, qui seront convertis en json afin de les traiter"
   ]
  },
  {
   "cell_type": "markdown",
   "id": "ef495b55-862b-439f-8e6b-d386e9dfb91b",
   "metadata": {},
   "source": [
    "#### Convertir des fichiers csv en fichier json"
   ]
  },
  {
   "cell_type": "code",
   "execution_count": 77,
   "id": "184745a4-c90c-460c-a143-0e707b76df25",
   "metadata": {},
   "outputs": [],
   "source": [
    "#convertir un fichier csv en fichier json\n",
    "import csv\n",
    "import json\n",
    "\n",
    "def csv_to_json(csv_file_path, json_file_path):\n",
    "    data = {}\n",
    "\n",
    "    with open(csv_file_path, encoding='utf-8') as csv_file_handler:\n",
    "        csv_reader = csv.DictReader(csv_file_handler)\n",
    "        \n",
    "        for row in csv_reader:\n",
    "            key = row['ID']\n",
    "            if key not in data:\n",
    "                data[key] = []\n",
    "            data[key].append(row)\n",
    "\n",
    "    with open(json_file_path, 'w', encoding='utf-8') as json_file_handler:\n",
    "        json.dump(data, json_file_handler, indent=4, ensure_ascii=False)\n",
    "\n",
    "csv_to_json(\"quizz2.csv\", \"quizz2_new.json\")\n",
    "csv_to_json(\"quizz.csv\", \"quizz_new.json\")"
   ]
  },
  {
   "cell_type": "markdown",
   "id": "cc16248e-c17e-4d9a-a5ea-26cf271008f2",
   "metadata": {},
   "source": [
    "#### Convertir des fichiers txt en fichier json"
   ]
  },
  {
   "cell_type": "code",
   "execution_count": 57,
   "id": "3cb879e8-cd72-4ed7-8441-742d00266183",
   "metadata": {},
   "outputs": [],
   "source": [
    "import json\n",
    "\n",
    "def csv_to_json(txt_file, new_file_merged):\n",
    "    with open(txt_file, 'r', encoding='utf-8') as f:\n",
    "        content = f.read()\n",
    "        \n",
    "    lines = content.split(\"\\n\")\n",
    "    result = {}\n",
    "    for i, line in enumerate(lines):\n",
    "        if line.strip():  \n",
    "            # ignorer la première ligne qui contient les en-têtes\n",
    "            if i == 0:\n",
    "                continue\n",
    "            \n",
    "            data = line.split('\\t')  \n",
    "            question = {\n",
    "                'ID': data[0],\n",
    "                'Question': data[1],\n",
    "                'Choix A': data[2],\n",
    "                'Choix B': data[3],\n",
    "                'Choix C': data[4],\n",
    "                'Choix D': data[5],\n",
    "                'Reponse': data[6],\n",
    "                'Categorie': data[7]\n",
    "            }\n",
    "            \n",
    "            result[data[0]] = [question]  \n",
    "    with open(new_file_merged, 'w', encoding='utf-8') as json_file:\n",
    "        json.dump(result, json_file, ensure_ascii=False, indent=4)\n",
    "\n",
    "csv_to_json(\"quizz.txt\", \"quizzFromTxt.json\")\n"
   ]
  },
  {
   "cell_type": "raw",
   "id": "0f2e9a06-9470-4806-adbe-863a3c5d9130",
   "metadata": {},
   "source": [
    "Résultat : \n",
    "{\n",
    "    \"1\": [\n",
    "        {\n",
    "            \"ID\": \"1\",\n",
    "            \"Question\": \"Quelle est la capitale de la France ?\",\n",
    "            \"Choix A\": \"Paris\",\n",
    "            \"Choix B\": \"Lyon\",\n",
    "            \"Choix C\": \"Marseille\",\n",
    "            \"Choix D\": \"Toulouse\",\n",
    "            \"Reponse\": \"A\",\n",
    "            \"Categorie\": \"Géographie\"\n",
    "        }\n",
    "    ],\n",
    "    \"2\": [\n",
    "        {\n",
    "            \"ID\": \"2\",\n",
    "            \"Question\": \"Quelle est la plus petite planète du système solaire ?\",\n",
    "            \"Choix A\": \"Mercure\",\n",
    "            \"Choix B\": \"Terre\",\n",
    "            \"Choix C\": \"Mars\",\n",
    "            \"Choix D\": \"Jupiter\",\n",
    "            \"Reponse\": \"A\",\n",
    "            \"Categorie\": \"Astronomie\"\n",
    "        }\n",
    "    ],"
   ]
  },
  {
   "cell_type": "markdown",
   "id": "b3b514c9-8c03-4b59-872e-6dc4ad2f767d",
   "metadata": {},
   "source": [
    "Une fois les questions converties en JSON, elles pourront être facilement gérées avec Redis."
   ]
  },
  {
   "cell_type": "markdown",
   "id": "9dc7627a-9d56-4a32-8e04-571c4ff0cc94",
   "metadata": {},
   "source": [
    "# Création des utilisateurs"
   ]
  },
  {
   "cell_type": "markdown",
   "id": "2d739082-7ed5-4a66-9cd6-108720cf4cbd",
   "metadata": {},
   "source": [
    "## Comparaison entre l’utilisation de `hset` et `redis-om` pour la gestion des données d'utilisateurs\n",
    "\n",
    "## Introduction\n",
    "\n",
    "Dans le cadre du projet **\"Quizz Constructif\"**, nous devons gérer des données d'utilisateurs temporaires en utilisant Redis. Ce document explore deux approches possibles pour structurer et manipuler les données d'utilisateur :\n",
    "1. Utilisation de la commande native Redis `hset`\n",
    "2. Utilisation de `redis-om`, une bibliothèque Redis permettant de structurer les données en modèles (ORM-like).\n",
    "\n",
    "L’objectif est de comparer les deux approches en termes de structure, performances, et facilité de maintenance.\n",
    "\n",
    "## Méthode\n",
    "\n",
    "### Option 1: Utilisation de `hset`\n",
    "\n",
    "La méthode `hset` est utilisée pour insérer directement des valeurs clés dans un hash Redis. Dans notre cas, elle pourrait être utilisée pour stocker chaque utilisateur comme suit :"
   ]
  },
  {
   "cell_type": "code",
   "execution_count": 62,
   "id": "98d02843-0699-4212-8105-5b6285aeb46a",
   "metadata": {},
   "outputs": [
    {
     "name": "stdout",
     "output_type": "stream",
     "text": [
      "User 19865 info: {'pseudo': 'Alex', 'score': '10'}\n",
      "Updated score for John: {'pseudo': 'John', 'score': '5'}\n",
      "User 19865 exists? 0\n"
     ]
    }
   ],
   "source": [
    "# Fonction pour ajouter un utilisateur avec pseudo et score initial\n",
    "def add_user(user_id, pseudo):\n",
    "    r.hset(f\"user:{user_id}\", \"pseudo\", pseudo)\n",
    "    r.hset(f\"user:{user_id}\", \"score\", 0)\n",
    "\n",
    "# Exemple de création d'utilisateurs\n",
    "add_user(19865, \"Alex\")\n",
    "add_user(23269, \"John\")\n",
    "\n",
    "# Fonction pour mettre à jour le score d'un utilisateur\n",
    "def update_score(user_id, score):\n",
    "    r.hset(f\"user:{user_id}\", \"score\", score)\n",
    "\n",
    "# Exemple de mise à jour de score pour Alex\n",
    "update_score(19865, 10)\n",
    "\n",
    "# Fonction pour récupérer les informations d'un utilisateur\n",
    "def get_user(user_id):\n",
    "    return r.hgetall(f\"user:{user_id}\")\n",
    "\n",
    "# Exemple d'affichage des informations de l'utilisateur Alex\n",
    "user_info = get_user(19865)\n",
    "print(\"User 19865 info:\", user_info)\n",
    "\n",
    "# Fonction pour incrémenter le score d'un utilisateur\n",
    "def increment_score(user_id, increment=1):\n",
    "    r.hincrby(f\"user:{user_id}\", \"score\", increment)\n",
    "\n",
    "# Exemple d'incrémentation du score de John\n",
    "increment_score(23269, 5)\n",
    "\n",
    "# Récupération et affichage du score de John\n",
    "print(\"Updated score for John:\", get_user(23269))\n",
    "\n",
    "# Fonction pour supprimer un utilisateur\n",
    "def delete_user(user_id):\n",
    "    r.delete(f\"user:{user_id}\")\n",
    "\n",
    "# Suppression de l'utilisateur Alex\n",
    "delete_user(19865)\n",
    "\n",
    "# Vérification de la suppression\n",
    "print(\"User 19865 exists?\", r.exists(\"user:19865\"))"
   ]
  },
  {
   "cell_type": "markdown",
   "id": "09f649e4-5f0a-46c8-ae25-727f3b61bc06",
   "metadata": {},
   "source": [
    "Chaque utilisateur est enregistré dans un hash avec son pseudo et son score, utilisant comme clé user:`{user_id}`.\n",
    "\n",
    "### Option 2: Utilisation de redis-om\n",
    "`redis-om` permet de modéliser les utilisateurs en utilisant des classes Python et gère automatiquement la création et l’accès aux données dans Redis.\n",
    "\n",
    "Exemple de modèle `redis-om` pour un utilisateur :"
   ]
  },
  {
   "cell_type": "code",
   "execution_count": 17,
   "id": "c920d5a9-db7e-40e9-ac79-07321944850f",
   "metadata": {},
   "outputs": [],
   "source": [
    "import datetime\n",
    "import dateutil.parser\n",
    "from typing import List, Optional\n",
    "\n",
    "from redis_om import (\n",
    "    JsonModel,\n",
    "    Field,\n",
    "    Migrator,\n",
    ")\n",
    "\n",
    "\n",
    "class Person2(JsonModel):\n",
    "    id : int = Field(index=True)\n",
    "    pseudo : str = Field(index=True)\n",
    "    verified: bool = Field(index=True)\n",
    "    personal_statement: Optional[str] = Field(index=True) , \n",
    "    score : float = Field(index=True)\n",
    "\n",
    "Migrator().run()"
   ]
  },
  {
   "cell_type": "code",
   "execution_count": 18,
   "id": "6dd06a0d-2775-4d55-9590-16307b85672f",
   "metadata": {},
   "outputs": [],
   "source": [
    "# Personne 1\n",
    "person1 = Person2(**{\n",
    "    \"id\": 1,\n",
    "    \"pseudo\": \"Alex\",\n",
    "    \"verified\": True,\n",
    "    \"personal_statement\": \"I like video games\" , \n",
    "    \"score\" : 0.0\n",
    "}).save()\n",
    "\n",
    "# Personne 2\n",
    "person2 = Person2(**{\n",
    "    \"id\": 2,\n",
    "    \"pseudo\": \"John\",\n",
    "    \"verified\": True,\n",
    "    \"personal_statement\": \"\" , \n",
    "    \"score\" : 0.0\n",
    "}).save()"
   ]
  },
  {
   "cell_type": "markdown",
   "id": "6a9d55e3-cf38-4d12-991a-b54b6dfb4cc4",
   "metadata": {},
   "source": [
    "#### Fonctionnalités de Redis-OM\n"
   ]
  },
  {
   "cell_type": "code",
   "execution_count": 20,
   "id": "846e91e4-2535-4ffa-a749-49c3fd4cefb1",
   "metadata": {},
   "outputs": [
    {
     "data": {
      "text/plain": [
       "Person2(pk='01JBSRSQ5300ZA6S8Z5VA1V4HX', id=1, pseudo='user1', verified=True, personal_statement='I like video games', score=0.0)"
      ]
     },
     "execution_count": 20,
     "metadata": {},
     "output_type": "execute_result"
    }
   ],
   "source": [
    "id = person1.pk\n",
    "person1 = Person2.get(id)\n",
    "\n",
    "# modify\n",
    "person1 = Person2.get(id)\n",
    "person1.pseudo = \"user1\"\n",
    "\n",
    "# save les modifications ajoutés \n",
    "person1.save()"
   ]
  },
  {
   "cell_type": "code",
   "execution_count": 21,
   "id": "8d794168-dee4-4a06-afb7-0da059771bd1",
   "metadata": {},
   "outputs": [
    {
     "name": "stdout",
     "output_type": "stream",
     "text": [
      "pk='01JBSQ4NQYA9FCNSSEA8TGJ74W' id=1 pseudo='Alex' verified=True personal_statement='I like video games' score=0.0\n",
      "pk='01JBSQ4NR4T5QWM3QYKHXT7Q9D' id=2 pseudo='John' verified=True personal_statement='' score=0.0\n",
      "pk='01JBSRSQ5NF5EC1EBNXY7C1R0C' id=2 pseudo='John' verified=True personal_statement='' score=0.0\n",
      "pk='01JBSRSQ5300ZA6S8Z5VA1V4HX' id=1 pseudo='user1' verified=True personal_statement='I like video games' score=0.0\n"
     ]
    }
   ],
   "source": [
    "# Récupérer tous les enregistrements de `Person`\n",
    "all_people = Person2.find().all()\n",
    "for person in all_people:\n",
    "    print(person)  \n"
   ]
  },
  {
   "cell_type": "code",
   "execution_count": 31,
   "id": "981a34a9-9316-48f8-a19f-c836eb602844",
   "metadata": {},
   "outputs": [
    {
     "name": "stdout",
     "output_type": "stream",
     "text": [
      "[Person2(pk='01JBSQ4NR4T5QWM3QYKHXT7Q9D', id=2, pseudo='John', verified=True, personal_statement='', score=0.0),\n",
      " Person2(pk='01JBSRSQ5NF5EC1EBNXY7C1R0C', id=2, pseudo='John', verified=True, personal_statement='', score=0.0)]\n",
      "-\n",
      "[Person2(pk='01JBSQ4NQYA9FCNSSEA8TGJ74W', id=1, pseudo='Alex', verified=True, personal_statement='I like video games', score=0.0)]\n",
      "-\n",
      "[Person2(pk='01JBSQ4NR4T5QWM3QYKHXT7Q9D', id=2, pseudo='John', verified=True, personal_statement='', score=0.0),\n",
      " Person2(pk='01JBSRSQ5NF5EC1EBNXY7C1R0C', id=2, pseudo='John', verified=True, personal_statement='', score=0.0)]\n"
     ]
    }
   ],
   "source": [
    "import pprint\n",
    "# Rechercher toutes les personnes avec score > 0 et vérifiées\n",
    "people_with_score = Person2.find(\n",
    "    (Person2.score > 0) & (Person2.verified == True)\n",
    ").all()\n",
    "pprint.pprint(people)\n",
    "print(\"-\")\n",
    "\n",
    "# Rechercher les personnes dont le score est supérieur à 75 ou avec le pseudo \"Alex\"\n",
    "people = Person2.find(\n",
    "    (Person2.score > 75) | (Person2.pseudo == \"Alex\")\n",
    ").all()\n",
    "pprint.pprint(people)\n",
    "print(\"-\")\n",
    "\n",
    "# Recherche complexe combinée\n",
    "people = Person2.find(\n",
    "    ((Person2.score > 21) & (Person2.pseudo == \"Alex\")) |\n",
    "    ((Person2.score > 75) | (Person2.pseudo == \"John\"))\n",
    ").all()\n",
    "pprint.pprint(people)"
   ]
  },
  {
   "cell_type": "code",
   "execution_count": 30,
   "id": "54336977-9b02-47e6-bddb-968762ffa783",
   "metadata": {},
   "outputs": [],
   "source": [
    "# Supprimer tous les utilisateurs une fois la session terminé \n",
    "for person  in Person2.find().all() : \n",
    "    id = person1.pk\n",
    "    person.delete(id) "
   ]
  },
  {
   "cell_type": "code",
   "execution_count": null,
   "id": "3e8f799f-69f1-4237-bbac-0db7fb8249da",
   "metadata": {},
   "outputs": [
    {
     "name": "stdout",
     "output_type": "stream",
     "text": [
      "Person not found\n"
     ]
    }
   ],
   "source": [
    "# Suppression d'une personne avec un ID spécifique\n",
    "from redis_om import NotFoundError\n",
    "\n",
    "try:\n",
    "    Person2.get(1).delete() \n",
    "except NotFoundError:\n",
    "    print(\"Person not found\")"
   ]
  },
  {
   "cell_type": "markdown",
   "id": "2021058d-81cd-49fa-8249-9cdce8505ff9",
   "metadata": {},
   "source": [
    "### Discussion :\n",
    "Pour un projet comme **\"Quizz Constructif\"** :\n",
    "\n",
    "`Redis-OM` : Un bon choix si l’application doit évoluer avec des fonctionnalités de recherche, de tri, ou une gestion structurée des utilisateurs (surtout si de nouveaux besoins apparaissent).\n",
    "\n",
    "`hset` simple : Convient mieux si l’objectif est de rester simple, rapide et éphémère, car Redis gère facilement des hashs pour 30 utilisateurs temporaires sans nécessiter de modèles.\n",
    "\n",
    "### Conclusion :\n",
    "Pour ce cas spécifique, où la performance et la simplicité priment et les données sont temporaires, la méthode `hset` est probablement le meilleur choix, car elle est légère et suffit pour les besoins actuels de l’application.\n",
    "Si des besoins plus complexes sont envisageables, alors Redis OM pourrait être plus bénéfique."
   ]
  },
  {
   "cell_type": "markdown",
   "id": "5c236a7c-994b-4aed-82ef-b386a7d92841",
   "metadata": {},
   "source": [
    "# Les jointures des questions du quizz "
   ]
  },
  {
   "cell_type": "markdown",
   "id": "b0d3c1b1-b00e-4c85-b90f-74cabd380ac7",
   "metadata": {},
   "source": [
    "Les questions sont divisés en plusieurs catégories,\n",
    "\n",
    "        {\n",
    "            \"ID\": \"1\",\n",
    "            \"Question\": \"Quelle est la capitale de la France ?\",\n",
    "            \"Choix A\": \"Paris\",\n",
    "            \"Choix B\": \"Lyon\",\n",
    "            \"Choix C\": \"Marseille\",\n",
    "            \"Choix D\": \"Toulouse\",\n",
    "            \"Reponse\": \"A\",\n",
    "            \"Categorie\": \"Géographie\"\n",
    "        }\n",
    "Nous pourront réaliser une jointure entre de fichiers json pour regrouper les questions de la `même catégorie`.\n"
   ]
  },
  {
   "cell_type": "markdown",
   "id": "f18643f7-a4a8-4017-972c-d6d4d8190cf2",
   "metadata": {},
   "source": [
    "![](https://storage.googleapis.com/sales.appinst.io/2017/05/quiz-app-screenshot-1.png)"
   ]
  },
  {
   "cell_type": "markdown",
   "id": "1f6c8912-544e-4f2a-addc-ef2dc162683b",
   "metadata": {},
   "source": [
    "## 1- Par boucle imbriquée "
   ]
  },
  {
   "cell_type": "markdown",
   "id": "0c879a3d-2393-46f0-ac64-79c0c6041d95",
   "metadata": {},
   "source": [
    "Il s'agit de parcourir les deux fichiers et ajouter les questions de la catégorie donnée."
   ]
  },
  {
   "cell_type": "code",
   "execution_count": 1,
   "id": "be464afc-0737-4cef-95b6-b6a13a29db95",
   "metadata": {},
   "outputs": [],
   "source": [
    "import json\n",
    "import collections\n",
    "from collections import defaultdict\n",
    "\n",
    "def filter_and_merge_by_category(file1, file2, category):\n",
    "    with open(file1, \"r\", encoding='utf-8') as file1, open(file2, \"r\", encoding='utf-8') as file2:\n",
    "        data1 = json.load(file1)\n",
    "        data2 = json.load(file2)\n",
    "    merged_data = defaultdict(list)\n",
    "\n",
    "    for data in [data1, data2]:\n",
    "        for key, questions in data.items():\n",
    "            for question in questions:\n",
    "                if question.get(\"Categorie\") == category:\n",
    "                    merged_data[key].append(question)\n",
    "    with open(f\"{category}_questionsNestedLoop.json\", \"w\") as output_file:\n",
    "        json.dump(merged_data, output_file, indent=4, ensure_ascii=False)\n",
    "category = \"Astronomie\"\n",
    "filter_and_merge_by_category(\"quizz_new.json\", \"quizz2_new.json\", category)\n",
    "\n"
   ]
  },
  {
   "cell_type": "markdown",
   "id": "814ee14f-7927-47c2-946a-c5c8156ee924",
   "metadata": {},
   "source": [
    "Ce type de jointure est simple mais inefficace pour des grandes quantités de données."
   ]
  },
  {
   "cell_type": "markdown",
   "id": "dac49366-d5ed-499a-a6f2-25e8de87d07d",
   "metadata": {},
   "source": [
    "## 2- Tri par fusion "
   ]
  },
  {
   "cell_type": "markdown",
   "id": "2a5a9f6f-cc1f-4e0b-880d-15b3c36fa3c4",
   "metadata": {},
   "source": [
    "Exécuter une jointure pour fusionner deux fichiers JSON, en triant les données par ID et en combinant les questions en une seule structure"
   ]
  },
  {
   "cell_type": "code",
   "execution_count": 3,
   "id": "546ae41d-4c41-436e-ad86-0d2f68e97acd",
   "metadata": {},
   "outputs": [],
   "source": [
    "import json\n",
    "def merge_sort_join(file1, file2, category):\n",
    "    with open(file1, \"r\") as file1, open(file2, \"r\") as file2:\n",
    "        data1 = json.load(file1)\n",
    "        data2 = json.load(file2)\n",
    " \n",
    "    filtered_data1 = [q for questions in data1.values() for q in questions if q.get(\"Categorie\") == category]\n",
    "    filtered_data2 = [q for questions in data2.values() for q in questions if q.get(\"Categorie\") == category]\n",
    "\n",
    "    # trier\n",
    "    sorted_data1 = sorted(filtered_data1, key=lambda x: x[\"ID\"])\n",
    "    sorted_data2 = sorted(filtered_data2, key=lambda x: x[\"ID\"])\n",
    "\n",
    "    merged_result = []\n",
    "    i, j = 0, 0\n",
    "    while i < len(sorted_data1) and j < len(sorted_data2):\n",
    "        if sorted_data1[i][\"ID\"] == sorted_data2[j][\"ID\"]:\n",
    "            merged_result.append({**sorted_data1[i], **sorted_data2[j]})\n",
    "            i += 1\n",
    "            j += 1\n",
    "        elif sorted_data1[i][\"ID\"] < sorted_data2[j][\"ID\"]:\n",
    "            merged_result.append(sorted_data1[i])\n",
    "            i += 1\n",
    "        else:\n",
    "            merged_result.append(sorted_data2[j])\n",
    "            j += 1\n",
    "\n",
    "    merged_result.extend(sorted_data1[i:])\n",
    "    merged_result.extend(sorted_data2[j:])\n",
    "    with open(f\"{category}_questions_triFusion.json\", \"w\") as output_file:\n",
    "        json.dump(merged_result, output_file, indent=4, ensure_ascii=False)\n",
    "\n",
    "\n",
    "category = \"Astronomie\"\n",
    "result_merge_sort = merge_sort_join(\"quizz_new.json\", \"quizz2_new.json\", category)"
   ]
  },
  {
   "cell_type": "markdown",
   "id": "1801cfab-e7e9-44fb-b7d1-be6001e7414d",
   "metadata": {},
   "source": [
    "Permet une jointure plus efficace, notamment pour des données qui sont triées au préalable."
   ]
  },
  {
   "cell_type": "markdown",
   "id": "b1ed7910-2d0c-470c-bb73-769baea62733",
   "metadata": {},
   "source": [
    "## 3- Tri par hachage "
   ]
  },
  {
   "cell_type": "markdown",
   "id": "142380f9-b18a-4c55-831c-e0a8b559f036",
   "metadata": {},
   "source": [
    "La fonction consiste à créer une table de hachage sur la plus petite des tables, parcourir la deuxème table et combiner les données si une correspondance est trouvée sur la table de hachage."
   ]
  },
  {
   "cell_type": "code",
   "execution_count": 4,
   "id": "0321b374-cd98-4fe4-aa37-70e2b92ccb32",
   "metadata": {},
   "outputs": [],
   "source": [
    "def hash_join(file1, file2, category):\n",
    "    with open(file1, \"r\") as file1, open(file2, \"r\") as file2:\n",
    "        data1 = json.load(file1)\n",
    "        data2 = json.load(file2)\n",
    "\n",
    "    filtered_data1 = [q for questions in data1.values() for q in questions if q.get(\"Categorie\") == category]\n",
    "    filtered_data2 = [q for questions in data2.values() for q in questions if q.get(\"Categorie\") == category]\n",
    "\n",
    "    # Construire une table de hachage \n",
    "    hash_table = {row[\"ID\"]: row for row in filtered_data2}\n",
    "\n",
    "    merged_result = []\n",
    "    for row in filtered_data1:\n",
    "        if row[\"ID\"] in hash_table:\n",
    "            merged_result.append({**row, **hash_table[row[\"ID\"]]})\n",
    "        else:\n",
    "            merged_result.append(row)  \n",
    "\n",
    "    for row in filtered_data2:\n",
    "        if row[\"ID\"] not in [r[\"ID\"] for r in merged_result]:\n",
    "            merged_result.append(row)\n",
    "\n",
    "    with open(f\"{category}_questions_triHachage.json\", \"w\") as output_file:\n",
    "        json.dump(merged_result, output_file, indent=4, ensure_ascii=False)\n",
    "category = \"Astronomie\"\n",
    "result_hash_join = hash_join(\"quizz_new.json\", \"quizz2_new.json\", category)"
   ]
  },
  {
   "cell_type": "markdown",
   "id": "ba094a16-c5be-457a-a97c-1fd040c94ca3",
   "metadata": {},
   "source": [
    "Cette méthode est généralement la plus performante des trois, surtout pour des ensembles de données volumineux."
   ]
  },
  {
   "cell_type": "raw",
   "id": "f91e6b6d-c0e7-44ff-814d-a1c099f5f789",
   "metadata": {},
   "source": [
    "Extrait du résultat : \n",
    "[\n",
    "    {\n",
    "        \"ID\": \"12\",\n",
    "        \"Question\": \"Quelle est la durée d'une année sur Mars en jours terrestres ?\",\n",
    "        \"Choix A\": \"365\",\n",
    "        \"Choix B\": \"687\",\n",
    "        \"Choix C\": \"432\",\n",
    "        \"Choix D\": \"310\",\n",
    "        \"Reponse\": \"B\",\n",
    "        \"Categorie\": \"Astronomie\"\n",
    "    },\n",
    "    {\n",
    "        \"ID\": \"15\",\n",
    "        \"Question\": \"Quelle est la plus grande planète du système solaire ?\",\n",
    "        \"Choix A\": \"Saturne\",\n",
    "        \"Choix B\": \"Jupiter\",\n",
    "        \"Choix C\": \"Mars\",\n",
    "        \"Choix D\": \"Terre\",\n",
    "        \"Reponse\": \"B\",\n",
    "        \"Categorie\": \"Astronomie\"\n",
    "    },..\n",
    "]"
   ]
  },
  {
   "cell_type": "markdown",
   "id": "d317e641-4864-4237-b1b7-aa21bbddddc9",
   "metadata": {},
   "source": [
    "## Comparaison des trois algorithmes "
   ]
  },
  {
   "cell_type": "code",
   "execution_count": 5,
   "id": "3de9d210-8a40-454e-ab84-0ef576253e9a",
   "metadata": {},
   "outputs": [],
   "source": [
    "import json\n",
    "import time\n",
    "from collections import defaultdict\n",
    "import matplotlib.pyplot as plt"
   ]
  },
  {
   "cell_type": "code",
   "execution_count": 35,
   "id": "cadf7c45-2eca-4dbd-98ea-c01a74c82468",
   "metadata": {},
   "outputs": [
    {
     "data": {
      "image/png": "[encoded data removed]",
      "text/plain": [
       "<Figure size 640x480 with 1 Axes>"
      ]
     },
     "metadata": {},
     "output_type": "display_data"
    }
   ],
   "source": [
    "def measure_time(algorithm, file1, file2, category, iterations):\n",
    "    start_time = time.time()\n",
    "    for _ in range(iterations):\n",
    "        algorithm(file1, file2, category)\n",
    "    end_time = time.time()\n",
    "    return end_time - start_time\n",
    "\n",
    "# Tester les temps d'exécution pour chaque algorithme avec différentes itérations\n",
    "file1 = \"quizz_new.json\"\n",
    "file2 = \"quizz2_new.json\"\n",
    "category = \"Astronomie\"\n",
    "iterations_list = [1, 10, 50,100, 500]  # Différents nombres d'itérations pour observer la variation\n",
    "\n",
    "nested_loop_times = []\n",
    "merge_sort_times = []\n",
    "hash_join_times = []\n",
    "\n",
    "for iterations in iterations_list:\n",
    "    nested_loop_times.append(measure_time(filter_and_merge_by_category, file1, file2, category, iterations))\n",
    "    merge_sort_times.append(measure_time(merge_sort_join, file1, file2, category, iterations))\n",
    "    hash_join_times.append(measure_time(hash_join, file1, file2, category, iterations))\n",
    "\n",
    "# Tracer les résultats\n",
    "plt.plot(iterations_list, nested_loop_times, label=\"Nested Loop Join\", marker='o')\n",
    "plt.plot(iterations_list, merge_sort_times, label=\"Merge Sort Join\", marker='o')\n",
    "plt.plot(iterations_list, hash_join_times, label=\"Hash Join\", marker='o')\n",
    "\n",
    "plt.xlabel(\"Nombre d'itérations\")\n",
    "plt.ylabel(\"Temps d'exécution (secondes)\")\n",
    "plt.title(\"Comparaison des performances des algorithmes de jointure\")\n",
    "plt.legend()\n",
    "plt.grid()\n",
    "plt.show()"
   ]
  },
  {
   "cell_type": "markdown",
   "id": "e7c9f507-cbb1-4921-a0cb-76331ac930cf",
   "metadata": {},
   "source": [
    "### Conclusion \n",
    "Typiquement, les trois algorithmes de jointure sont censés avoir des performances différentes (résultat clair avec des fichiers volumineux -grand nombre de questions-)\n",
    " - Hash join => le plus rapide avec une complexité O(n)\n",
    " - Sorted List => une complexité O(nlogn)\n",
    " - Nested Loop- Boucle imbriquée => le plus lent O(n²)"
   ]
  },
  {
   "cell_type": "markdown",
   "id": "c598dd0b-167d-4d6a-95fd-87c99808038c",
   "metadata": {},
   "source": [
    "# Gestion du canal de chat(Pub-Sub)\n",
    "\n",
    "## Introduction\n",
    "\n",
    "Dans le cadre du projet \"Quizz Constructif\", l'utilisation d'un modèle de publication/souscription (Pub/Sub) est essentielle pour assurer une communication en temps réel entre les utilisateurs et le serveur. Ce modèle permet aux utilisateurs de recevoir instantanément les mises à jour des questions du quizz et d'échanger des messages via le canal de chat. Redis, en tant que base de données en mémoire, offre une excellente prise en charge de cette fonctionnalité.\n",
    "\n",
    "## Méthodes\n",
    "\n",
    "Le modèle Pub/Sub de Redis permet de publier des messages sur un canal et de s'abonner à ce canal pour recevoir ces messages. Dans notre application, nous allons utiliser Redis pour gérer les mises à jour des questions du quizz et les messages échangés entre les utilisateurs.\n",
    "\n",
    "### Étapes de mise en œuvre :\n",
    "\n",
    "1. **Configuration du serveur Redis**.\n",
    "2. **Publication des messages** : Lorsqu'une nouvelle question est ajoutée ou qu'un utilisateur envoie un message, il est publié sur le canal approprié.\n",
    "3. **Abonnement aux messages** : Les utilisateurs s'abonnissent à ce canal pour recevoir les mises à jour.\n",
    "\n",
    "\n",
    "![](https://blog.containerize.com/fr/introduction-to-redis-pubsub-and-how-does-it-work/images/redis-pub-sub.png)\n",
    "\n",
    "## Résultats\n",
    "\n",
    "### Exemple de Code (Pub/Sub sur le canal de l'application)\n",
    "\n",
    "Voici un exemple de code en Python qui illustre comment utiliser Pub/Sub avec Redis pour notre projet dans le but de publier des indices dans le canal :"
   ]
  },
  {
   "cell_type": "markdown",
   "id": "e2295ca7",
   "metadata": {},
   "source": [
    "<b>Pub : </b>"
   ]
  },
  {
   "cell_type": "code",
   "execution_count": null,
   "id": "5370cc58-570f-42d2-81ad-43357c185ea6",
   "metadata": {},
   "outputs": [],
   "source": [
    "import redis\n",
    "import random\n",
    "import time\n",
    "\n",
    "# Connexion à Redis\n",
    "r = redis.Redis(host='localhost', port=6379)\n",
    "\n",
    "# Liste d'indices possibles\n",
    "clue = \"Exemple d'indice\" \n",
    "\n",
    "# Fonction pour publier des indices\n",
    "def publish_clue(clue):\n",
    "    # filtrage de l'indice avant qu'il soit publié \n",
    "    r.publish('quiz_channel', clue)\n",
    "\n",
    "for _ in range(100):\n",
    "    publish_clue(clue)\n",
    "    print(f\"Publié : {clue}\")\n",
    "    time.sleep(1)  \n"
   ]
  },
  {
   "cell_type": "markdown",
   "id": "969f00f9",
   "metadata": {},
   "source": [
    "<b>Sub : </b>"
   ]
  },
  {
   "cell_type": "code",
   "execution_count": null,
   "id": "c078cde2",
   "metadata": {},
   "outputs": [],
   "source": [
    "# à executer séparemment\n",
    "import redis\n",
    "import threading\n",
    "\n",
    "# Connexion à Redis\n",
    "r = redis.Redis(host='localhost', port=6379)\n",
    "def listen_to_messages():\n",
    "    pubsub = r.pubsub()\n",
    "    pubsub.subscribe('quiz_channel')\n",
    "    \n",
    "    for message in pubsub.listen():\n",
    "        if message['type'] == 'message':\n",
    "            print(f\"Nouvelle indice reçue : {message['data'].decode('utf-8')}\")\n",
    "\n",
    "# Démarrer le thread d'écoute\n",
    "listener_thread = threading.Thread(target=listen_to_messages)\n",
    "listener_thread.start()\n"
   ]
  },
  {
   "cell_type": "markdown",
   "id": "f697282b-260e-4a62-a1a6-3f985c46c44d",
   "metadata": {},
   "source": [
    "## Discussion\n",
    "\n",
    "L'utilisation de Pub/Sub dans notre application \"Quizz Constructif\" présente plusieurs avantages. En permettant aux utilisateurs de recevoir instantanément les nouvelles questions, nous garantissons une expérience interactive et engageante. Ce modèle de communication favorise également l'échange de messages dans le canal de chat, renforçant ainsi la collaboration entre les utilisateurs.\n",
    "\n",
    "**Serait-il possible d'opter pour MongoDB ?**\n",
    " \n",
    "Si nous tentions d'utiliser MongoDB pour le modèle Pub/Sub, la mise en œuvre serait plus complexe et moins performante. MongoDB ne dispose pas d'un mécanisme de Pub/Sub intégré, ce qui nécessiterait la mise en place de clusters et de réplicats pour garantir une communication en temps réel -comme nous avons vu dans la partie MongiDB précedemment-, en ajoutant des coûts et une complexité de gestion. De plus, MongoDB n’est pas optimisé pour gérer des messages rapides et éphémères en mémoire comme Redis, rendant cette solution moins adaptée pour les échanges en temps réel de notre application.\n",
    "\n",
    "## Conclusion\n",
    "\n",
    "En intégrant le modèle Pub/Sub de Redis dans le projet \"Quizz Constructif\", nous sommes en mesure d'assurer une communication en temps réel efficace entre les utilisateurs et le serveur. Cette approche améliore l'interactivité et la fluidité de l'expérience utilisateur, essentielle pour un quizz en ligne. \n"
   ]
  },
  {
   "cell_type": "markdown",
   "id": "06430156-9f71-4f12-9ebf-236dae16ebf2",
   "metadata": {},
   "source": [
    "<h1>Recapitulatif</h1>"
   ]
  },
  {
   "cell_type": "markdown",
   "id": "822902c4",
   "metadata": {},
   "source": [
    "Ce rapport explore l'importance de la `dénormalisation` et l’utilité des bases de données NoSQL `Redis` et `MongoDB`. Nous avons comparé leurs fonctionnalités clés.\n",
    "\n",
    "Dans un cas pratique de quiz en temps réel, Redis a été choisi pour ses capacités de réponse rapide, de gestion des notifications en direct, et de suppression automatique des données.\n",
    "\n",
    "En conclusion, Redis et MongoDB apportent des solutions puissantes pour des applications nécessitant rapidité et adaptabilité des données."
   ]
  },
  {
   "cell_type": "markdown",
   "id": "c7d144dd",
   "metadata": {},
   "source": [
    "**Ressources :**\n",
    "\n",
    "- [Bases de Données Avancées - SQL, NoSQL, NewSQL](https://lipn.univ-paris13.fr/~cerin/BD_AVANCEES/SQL_NoSQL_NewSQL.pdf)\n",
    "- [Comprendre la jointure en bases de données](https://lipn.univ-paris13.fr/~cerin/jointure.pdf)\n",
    "- [Convertir un fichier CSV en JSON avec Python](https://www.askpython.com/python/examples/convert-csv-to-json)\n",
    "- [Documentation des commandes Redis](https://redis.io/commands/)\n",
    "- [Guide de démarrage rapide Redis](https://developer.redis.com/howtos/quick-start)\n",
    "- [Documentation Redis Pub/Sub](https://redis.io/docs/interact/pubsub/)\n",
    "- [Utilisation de Pub/Sub avec Redis et Python (StackHero)](https://www.stackhero.io/fr-fr/services/Redis/documentations/Utilisation-avec-Python/Comment-utiliser-Pub-Sub-avec-Redis-et-Python)\n",
    "- [Redis pour les débutants](https://redis.com/redis-for-dummies/)\n",
    "- [MongoDB avec Python](https://www.mongodb.com/languages/python)\n",
    "- [Pub/Sub avec MongoDB](https://www.mongodb.com/blog/post/pubsub-with-mongodb)\n",
    "- [LPASUR - Université Paris 13](https://lipn.univ-paris13.fr/~cerin/LPASUR/)\n",
    "- [Image Pub-Sub](https://blog.containerize.com/fr/introduction-to-redis-pubsub-and-how-does-it-work/images/redis-pub-sub.png)\n",
    "- [Catégorie de questions du quizz](https://storage.googleapis.com/sales.appinst.io/2017/05/quiz-app-screenshot-1.png)\n",
    "- [Exemple de quizz en temps réel](https://phpscriptsmall.com)\n",
    "- [Image MongoDB](https://webimages.mongodb.com)\n",
    "- [Image Redis](https://clarkes.team)\n",
    "- [Data Structure](https://media.licdn.com/dms/image/v2/D5612AQHvX3Ftp9DLlQ/article-cover_image-shrink_720_1280/article-cover_image-shrink_720_1280/0/1722349221203?e=2147483647&v=beta&t=W1PXm4d6ueeRKqpgg_T0MQAUftcl1D-xEDLWMycyRR4)\n",
    "- [Redis-cache](https://romankudryashov.com/blog/2021/06/mongodb-redis-rust/images/architecture.png)\n",
    "\n",
    "\n",
    "\n",
    "\n"
   ]
  },
  {
   "cell_type": "markdown",
   "id": "79bcc799-a68e-4778-bf44-c329d4b2f15b",
   "metadata": {},
   "source": [
    "<code>Merci !</code>\n",
    "\n"
   ]
  }
 ],
 "metadata": {
  "kernelspec": {
   "display_name": "Python 3",
   "language": "python",
   "name": "python3"
  },
  "language_info": {
   "codemirror_mode": {
    "name": "ipython",
    "version": 3
   },
   "file_extension": ".py",
   "mimetype": "text/x-python",
   "name": "python",
   "nbconvert_exporter": "python",
   "pygments_lexer": "ipython3",
   "version": "3.12.7"
  }
 },
 "nbformat": 4,
 "nbformat_minor": 5
}
